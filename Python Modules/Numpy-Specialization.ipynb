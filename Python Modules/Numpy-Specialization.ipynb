{
 "cells": [
  {
   "cell_type": "markdown",
   "metadata": {},
   "source": [
    "### Importing numpy module"
   ]
  },
  {
   "cell_type": "code",
   "execution_count": 2,
   "metadata": {},
   "outputs": [],
   "source": [
    "import numpy as np"
   ]
  },
  {
   "cell_type": "markdown",
   "metadata": {},
   "source": [
    "### Creating a numpy array"
   ]
  },
  {
   "cell_type": "code",
   "execution_count": 2,
   "metadata": {},
   "outputs": [],
   "source": [
    "arr = np.array([1,2,3,4,5,6])"
   ]
  },
  {
   "cell_type": "code",
   "execution_count": 17,
   "metadata": {},
   "outputs": [
    {
     "data": {
      "text/plain": [
       "numpy.ndarray"
      ]
     },
     "execution_count": 17,
     "metadata": {},
     "output_type": "execute_result"
    }
   ],
   "source": [
    "type(arr)"
   ]
  },
  {
   "cell_type": "code",
   "execution_count": 4,
   "metadata": {},
   "outputs": [
    {
     "name": "stdout",
     "output_type": "stream",
     "text": [
      "[1 2 3 4 5 6]\n",
      "int32\n",
      "4\n"
     ]
    }
   ],
   "source": [
    "print(arr)\n",
    "print(arr.dtype) #datatype\n",
    "print(arr.dtype.itemsize)"
   ]
  },
  {
   "cell_type": "markdown",
   "metadata": {},
   "source": [
    "### Storing text in numpy "
   ]
  },
  {
   "cell_type": "code",
   "execution_count": 10,
   "metadata": {},
   "outputs": [],
   "source": [
    "text_arr = np.array([\"Hallo\", \"Hola\", \"Hello\", \"Ni hao\"])"
   ]
  },
  {
   "cell_type": "code",
   "execution_count": 11,
   "metadata": {},
   "outputs": [
    {
     "name": "stdout",
     "output_type": "stream",
     "text": [
      "['Hallo' 'Hola' 'Hello' 'Ni hao']\n",
      "<U6\n",
      "24\n"
     ]
    }
   ],
   "source": [
    "print(text_arr)\n",
    "print(text_arr.dtype) #datatype\n",
    "print(text_arr.dtype.itemsize)"
   ]
  },
  {
   "cell_type": "markdown",
   "metadata": {},
   "source": [
    "### Storing Dates"
   ]
  },
  {
   "cell_type": "code",
   "execution_count": 12,
   "metadata": {},
   "outputs": [],
   "source": [
    "date_arr = np.array([\"2004-10-06\", \"2005-08-31\", \"2005-02-11\"])"
   ]
  },
  {
   "cell_type": "code",
   "execution_count": 13,
   "metadata": {},
   "outputs": [
    {
     "name": "stdout",
     "output_type": "stream",
     "text": [
      "['2004-10-06' '2005-08-31' '2005-02-11']\n",
      "<U10\n",
      "40\n"
     ]
    }
   ],
   "source": [
    "print(date_arr)\n",
    "print(date_arr.dtype) #datatype\n",
    "print(date_arr.dtype.itemsize)"
   ]
  },
  {
   "cell_type": "code",
   "execution_count": 15,
   "metadata": {},
   "outputs": [
    {
     "name": "stdout",
     "output_type": "stream",
     "text": [
      "datetime64[D]\n",
      "8\n"
     ]
    }
   ],
   "source": [
    "modified_arr = date_arr.astype(\"M\")  #converts it to datetime datatype\n",
    "\n",
    "\n",
    "print(modified_arr.dtype)\n",
    "print(modified_arr.dtype.itemsize)"
   ]
  },
  {
   "cell_type": "code",
   "execution_count": 16,
   "metadata": {},
   "outputs": [
    {
     "name": "stdout",
     "output_type": "stream",
     "text": [
      "['2004-10-06' '2005-08-31' '2005-02-11']\n",
      "datetime64[D]\n",
      "8\n"
     ]
    }
   ],
   "source": [
    "date_arr = np.array([\"2004-10-06\", \"2005-08-31\", \"2005-02-11\"], dtype= \"M\")\n",
    "\n",
    "print(date_arr)\n",
    "print(date_arr.dtype) #datatype\n",
    "print(date_arr.dtype.itemsize)"
   ]
  },
  {
   "cell_type": "markdown",
   "metadata": {},
   "source": [
    "### Creating numpy arrays using array() method"
   ]
  },
  {
   "cell_type": "code",
   "execution_count": 72,
   "metadata": {},
   "outputs": [
    {
     "name": "stdout",
     "output_type": "stream",
     "text": [
      "[10, 20, 30, 40, 50]\n",
      "<class 'list'>\n",
      "[10 20 30 40 50]\n",
      "<class 'numpy.ndarray'>\n"
     ]
    }
   ],
   "source": [
    "nums_list = [10,20,30,40,50]\n",
    "np_array = np.array(nums_list)\n",
    "print(nums_list)\n",
    "print(type(nums_list))\n",
    "print(np_array)\n",
    "print(type(np_array))"
   ]
  },
  {
   "cell_type": "code",
   "execution_count": 73,
   "metadata": {},
   "outputs": [
    {
     "name": "stdout",
     "output_type": "stream",
     "text": [
      "[2 3 4 5]\n"
     ]
    },
    {
     "data": {
      "text/plain": [
       "numpy.ndarray"
      ]
     },
     "execution_count": 73,
     "metadata": {},
     "output_type": "execute_result"
    }
   ],
   "source": [
    "list = [2,3,4,5]\n",
    "np_arr = np.asarray(list)\n",
    "\n",
    "print(np_arr)\n",
    "type(np_arr)"
   ]
  },
  {
   "cell_type": "code",
   "execution_count": 74,
   "metadata": {},
   "outputs": [
    {
     "name": "stdout",
     "output_type": "stream",
     "text": [
      "[2, 3, 4, 5]\n",
      "[2 3 4 5]\n"
     ]
    },
    {
     "data": {
      "text/plain": [
       "numpy.ndarray"
      ]
     },
     "execution_count": 74,
     "metadata": {},
     "output_type": "execute_result"
    }
   ],
   "source": [
    "tuple = [2,3,4,5]\n",
    "np_arr = np.asarray(tuple)\n",
    "print(tuple)\n",
    "print(np_arr)\n",
    "type(np_arr)"
   ]
  },
  {
   "cell_type": "code",
   "execution_count": 22,
   "metadata": {},
   "outputs": [
    {
     "data": {
      "text/plain": [
       "(3, 3)"
      ]
     },
     "execution_count": 22,
     "metadata": {},
     "output_type": "execute_result"
    }
   ],
   "source": [
    "row1 = [1, 2, 3]\n",
    "row2 = [4, 5, 6]\n",
    "row3 = [7, 8, 9]\n",
    "\n",
    "np_2D_arr = np.array([row1, row2, row3])\n",
    "np_2D_arr.shape"
   ]
  },
  {
   "cell_type": "code",
   "execution_count": 23,
   "metadata": {},
   "outputs": [
    {
     "data": {
      "text/plain": [
       "array([[1, 2, 3],\n",
       "       [4, 5, 6],\n",
       "       [7, 8, 9]])"
      ]
     },
     "execution_count": 23,
     "metadata": {},
     "output_type": "execute_result"
    }
   ],
   "source": [
    "np_2D_arr"
   ]
  },
  {
   "cell_type": "markdown",
   "metadata": {},
   "source": [
    "### Creating numpy arrays using arange() method"
   ]
  },
  {
   "cell_type": "code",
   "execution_count": 24,
   "metadata": {},
   "outputs": [
    {
     "name": "stdout",
     "output_type": "stream",
     "text": [
      "[ 6  7  8  9 10 11 12 13 14 15 16 17 18 19 20 21 22 23 24 25 26 27 28 29\n",
      " 30]\n"
     ]
    }
   ],
   "source": [
    "nums_arr = np.arange(6, 31)\n",
    "print(nums_arr)"
   ]
  },
  {
   "cell_type": "code",
   "execution_count": 25,
   "metadata": {},
   "outputs": [
    {
     "name": "stdout",
     "output_type": "stream",
     "text": [
      "[ 6  9 12 15 18 21 24 27 30]\n"
     ]
    }
   ],
   "source": [
    "nums_arr = np.arange(6, 32, 3)\n",
    "print(nums_arr)"
   ]
  },
  {
   "cell_type": "markdown",
   "metadata": {},
   "source": [
    "### Creating numpy arrays using ones() method"
   ]
  },
  {
   "cell_type": "code",
   "execution_count": 28,
   "metadata": {},
   "outputs": [
    {
     "name": "stdout",
     "output_type": "stream",
     "text": [
      "[1. 1. 1. 1. 1. 1. 1. 1. 1. 1. 1. 1. 1. 1. 1. 1.]\n"
     ]
    }
   ],
   "source": [
    "np_ones_arr = np.ones(16)\n",
    "\n",
    "print(np_ones_arr)"
   ]
  },
  {
   "cell_type": "code",
   "execution_count": 27,
   "metadata": {},
   "outputs": [
    {
     "data": {
      "text/plain": [
       "array([1., 1., 1., 1., 1., 1., 1., 1., 1., 1., 1., 1., 1., 1., 1., 1.])"
      ]
     },
     "execution_count": 27,
     "metadata": {},
     "output_type": "execute_result"
    }
   ],
   "source": [
    "np_ones_arr"
   ]
  },
  {
   "cell_type": "code",
   "execution_count": 29,
   "metadata": {},
   "outputs": [
    {
     "name": "stdout",
     "output_type": "stream",
     "text": [
      "[[1. 1. 1. 1. 1.]\n",
      " [1. 1. 1. 1. 1.]\n",
      " [1. 1. 1. 1. 1.]]\n"
     ]
    }
   ],
   "source": [
    "np_ones_2D = np.ones((3,5))\n",
    "print(np_ones_2D)"
   ]
  },
  {
   "cell_type": "markdown",
   "metadata": {},
   "source": [
    "### Creating numpy arrays using zeros() method"
   ]
  },
  {
   "cell_type": "code",
   "execution_count": 30,
   "metadata": {},
   "outputs": [
    {
     "name": "stdout",
     "output_type": "stream",
     "text": [
      "[0. 0. 0. 0. 0. 0. 0. 0. 0. 0. 0. 0. 0. 0. 0. 0.]\n"
     ]
    }
   ],
   "source": [
    "np_zeros_arr = np.zeros(16)\n",
    "\n",
    "print(np_zeros_arr)"
   ]
  },
  {
   "cell_type": "code",
   "execution_count": 31,
   "metadata": {},
   "outputs": [
    {
     "name": "stdout",
     "output_type": "stream",
     "text": [
      "[[0. 0. 0. 0. 0.]\n",
      " [0. 0. 0. 0. 0.]\n",
      " [0. 0. 0. 0. 0.]]\n"
     ]
    }
   ],
   "source": [
    "np_zeros_2D = np.zeros((3,5))\n",
    "\n",
    "print(np_zeros_2D)"
   ]
  },
  {
   "cell_type": "markdown",
   "metadata": {},
   "source": [
    "### Creating numpy arrays using eye() method"
   ]
  },
  {
   "cell_type": "code",
   "execution_count": 34,
   "metadata": {},
   "outputs": [
    {
     "name": "stdout",
     "output_type": "stream",
     "text": [
      "[[1. 0. 0. 0. 0.]\n",
      " [0. 1. 0. 0. 0.]\n",
      " [0. 0. 1. 0. 0.]\n",
      " [0. 0. 0. 1. 0.]\n",
      " [0. 0. 0. 0. 1.]]\n"
     ]
    }
   ],
   "source": [
    "# Itentity matrix\n",
    "eye_arr = np.eye(5)\n",
    "\n",
    "print(eye_arr)"
   ]
  },
  {
   "cell_type": "markdown",
   "metadata": {},
   "source": [
    "### Creating numpy arrays with specific values"
   ]
  },
  {
   "cell_type": "code",
   "execution_count": 66,
   "metadata": {},
   "outputs": [
    {
     "name": "stdout",
     "output_type": "stream",
     "text": [
      "[[31 31 31]\n",
      " [31 31 31]\n",
      " [31 31 31]\n",
      " [31 31 31]\n",
      " [31 31 31]]\n"
     ]
    }
   ],
   "source": [
    "num_arr = np.full((5,3), 31)\n",
    "print(num_arr)"
   ]
  },
  {
   "cell_type": "markdown",
   "metadata": {},
   "source": [
    "### Creating numpy array of  evenly spaced values"
   ]
  },
  {
   "cell_type": "code",
   "execution_count": 69,
   "metadata": {},
   "outputs": [
    {
     "name": "stdout",
     "output_type": "stream",
     "text": [
      "[10. 19. 28. 37. 46. 55.]\n"
     ]
    }
   ],
   "source": [
    "arr = np.linspace(10, 55, 6) #specify the number of values reqiured\n",
    "print(arr)"
   ]
  },
  {
   "cell_type": "code",
   "execution_count": 70,
   "metadata": {},
   "outputs": [
    {
     "name": "stdout",
     "output_type": "stream",
     "text": [
      "[10 16 22 28 34 40 46 52]\n"
     ]
    }
   ],
   "source": [
    "arr = np.arange(10, 55, 6) #specify the step\n",
    "print(arr) "
   ]
  },
  {
   "cell_type": "markdown",
   "metadata": {},
   "source": [
    "### Creating numpy arrays using random.rand() method"
   ]
  },
  {
   "cell_type": "code",
   "execution_count": 36,
   "metadata": {},
   "outputs": [
    {
     "name": "stdout",
     "output_type": "stream",
     "text": [
      "[[0.58256167 0.9848459  0.66514482]\n",
      " [0.43467334 0.24655758 0.04603258]\n",
      " [0.22610311 0.54332693 0.68364318]\n",
      " [0.35695621 0.51679963 0.69456595]]\n"
     ]
    }
   ],
   "source": [
    "rand_arr = np.random.rand(4,3)\n",
    "print(rand_arr)"
   ]
  },
  {
   "cell_type": "code",
   "execution_count": 37,
   "metadata": {},
   "outputs": [
    {
     "name": "stdout",
     "output_type": "stream",
     "text": [
      "[[ 1.31281798  0.07823511 -0.75427038]\n",
      " [ 1.70092898 -0.53659096  1.79659382]\n",
      " [ 0.956908    0.0787828   1.00616053]\n",
      " [ 0.345365    0.50039685 -0.27920739]]\n"
     ]
    }
   ],
   "source": [
    "# With Normal Distribution\n",
    "\n",
    "rand_arr_n = np.random.randn(4,3)\n",
    "print(rand_arr_n)"
   ]
  },
  {
   "cell_type": "code",
   "execution_count": 38,
   "metadata": {},
   "outputs": [
    {
     "name": "stdout",
     "output_type": "stream",
     "text": [
      "[ 8 22 20 12 26 13 24 29 13 23]\n"
     ]
    }
   ],
   "source": [
    "# Random Integer\n",
    "\n",
    "rand_arr_int = np.random.randint(6, 31, 10)\n",
    "print(rand_arr_int)"
   ]
  },
  {
   "cell_type": "code",
   "execution_count": 42,
   "metadata": {},
   "outputs": [
    {
     "name": "stdout",
     "output_type": "stream",
     "text": [
      "[[ 9 26 19 18 29]\n",
      " [ 7 12  7 17 24]\n",
      " [ 7 13 29 26  6]]\n"
     ]
    }
   ],
   "source": [
    "# Random Integer 2D\n",
    "\n",
    "rand_arr_int = np.random.randint(6, 31, size = (3,5))\n",
    "print(rand_arr_int)"
   ]
  },
  {
   "cell_type": "code",
   "execution_count": 44,
   "metadata": {},
   "outputs": [
    {
     "name": "stdout",
     "output_type": "stream",
     "text": [
      "9\n",
      "26\n",
      "19\n",
      "18\n",
      "29\n",
      "7\n",
      "12\n",
      "7\n",
      "17\n",
      "24\n",
      "7\n",
      "13\n",
      "29\n",
      "26\n",
      "6\n"
     ]
    }
   ],
   "source": [
    "for i in rand_arr_int:\n",
    "    for j in i:\n",
    "        print(j)"
   ]
  },
  {
   "cell_type": "markdown",
   "metadata": {},
   "source": [
    "### Analysing the numpy array"
   ]
  },
  {
   "cell_type": "code",
   "execution_count": 41,
   "metadata": {},
   "outputs": [
    {
     "data": {
      "text/plain": [
       "(4, 3)"
      ]
     },
     "execution_count": 41,
     "metadata": {},
     "output_type": "execute_result"
    }
   ],
   "source": [
    "rand_arr_n.shape"
   ]
  },
  {
   "cell_type": "code",
   "execution_count": 40,
   "metadata": {},
   "outputs": [
    {
     "data": {
      "text/plain": [
       "2"
      ]
     },
     "execution_count": 40,
     "metadata": {},
     "output_type": "execute_result"
    }
   ],
   "source": [
    "rand_arr_n.ndim"
   ]
  },
  {
   "cell_type": "code",
   "execution_count": 75,
   "metadata": {},
   "outputs": [
    {
     "data": {
      "text/plain": [
       "15"
      ]
     },
     "execution_count": 75,
     "metadata": {},
     "output_type": "execute_result"
    }
   ],
   "source": [
    "rand_arr_int.size"
   ]
  },
  {
   "cell_type": "code",
   "execution_count": 76,
   "metadata": {},
   "outputs": [
    {
     "data": {
      "text/plain": [
       "dtype('int32')"
      ]
     },
     "execution_count": 76,
     "metadata": {},
     "output_type": "execute_result"
    }
   ],
   "source": [
    "rand_arr_int.dtype"
   ]
  },
  {
   "cell_type": "markdown",
   "metadata": {},
   "source": [
    "## Adding items in a NumPy array"
   ]
  },
  {
   "cell_type": "code",
   "execution_count": 47,
   "metadata": {},
   "outputs": [],
   "source": [
    "text_arr = np.array([\"Hallo\", \"Hola\", \"Hello\"])\n",
    "\n",
    "text_arr= np.append(text_arr,\"Ni hao\")"
   ]
  },
  {
   "cell_type": "code",
   "execution_count": 48,
   "metadata": {},
   "outputs": [
    {
     "data": {
      "text/plain": [
       "array(['Hallo', 'Hola', 'Hello', 'Ni hao'], dtype='<U6')"
      ]
     },
     "execution_count": 48,
     "metadata": {},
     "output_type": "execute_result"
    }
   ],
   "source": [
    "text_arr"
   ]
  },
  {
   "cell_type": "code",
   "execution_count": 49,
   "metadata": {},
   "outputs": [
    {
     "name": "stdout",
     "output_type": "stream",
     "text": [
      "['Hallo' 'Hola' 'Hello' 'Ni hao']\n"
     ]
    }
   ],
   "source": [
    "print(text_arr)"
   ]
  },
  {
   "cell_type": "code",
   "execution_count": 50,
   "metadata": {},
   "outputs": [],
   "source": [
    "text_arr = np.append(text_arr, [\"Ohayo\", \"Hey\"])"
   ]
  },
  {
   "cell_type": "code",
   "execution_count": 51,
   "metadata": {},
   "outputs": [
    {
     "name": "stdout",
     "output_type": "stream",
     "text": [
      "['Hallo' 'Hola' 'Hello' 'Ni hao' 'Ohayo' 'Hey']\n"
     ]
    }
   ],
   "source": [
    "print(text_arr)"
   ]
  },
  {
   "cell_type": "code",
   "execution_count": 53,
   "metadata": {},
   "outputs": [
    {
     "name": "stdout",
     "output_type": "stream",
     "text": [
      "[[0. 0. 0.]\n",
      " [0. 0. 0.]\n",
      " [0. 0. 0.]]\n",
      "Extended array\n",
      "[[0. 0. 0. 1.]\n",
      " [0. 0. 0. 2.]\n",
      " [0. 0. 0. 3.]]\n"
     ]
    }
   ],
   "source": [
    "zeros_arr = np.zeros((3,3))\n",
    "print(zeros_arr)\n",
    "print(\"Extended array\")\n",
    "extended = np.append(zeros_arr, [[1],[2],[3]], axis=1)\n",
    "print(extended)"
   ]
  },
  {
   "cell_type": "markdown",
   "metadata": {},
   "source": [
    "### Removing items from a NumPy array"
   ]
  },
  {
   "cell_type": "code",
   "execution_count": 56,
   "metadata": {},
   "outputs": [
    {
     "name": "stdout",
     "output_type": "stream",
     "text": [
      "['Hallo' 'Hola' 'Hello' 'Ni hao']\n",
      "After Deletion\n",
      "['Hallo' 'Hola' 'Hello']\n"
     ]
    }
   ],
   "source": [
    "new_arr = np.array([\"Hallo\", \"Hola\", \"Hello\", \"Ni hao\"])\n",
    "print(new_arr)\n",
    "print(\"After Deletion\")\n",
    "updated_arr = np.delete(new_arr, 3)\n",
    "print(updated_arr)"
   ]
  },
  {
   "cell_type": "code",
   "execution_count": 57,
   "metadata": {},
   "outputs": [
    {
     "name": "stdout",
     "output_type": "stream",
     "text": [
      "['Hallo' 'Hola' 'Hello' 'Ni hao']\n",
      "After Deletion\n",
      "['Hallo' 'Hello']\n"
     ]
    }
   ],
   "source": [
    "new_arr = np.array([\"Hallo\", \"Hola\", \"Hello\", \"Ni hao\"])\n",
    "print(new_arr)\n",
    "print(\"After Deletion\")\n",
    "updated_arr = np.delete(new_arr, [1,3])\n",
    "print(updated_arr)"
   ]
  },
  {
   "cell_type": "code",
   "execution_count": 64,
   "metadata": {},
   "outputs": [
    {
     "name": "stdout",
     "output_type": "stream",
     "text": [
      "[[13 10 19]\n",
      " [25 22 16]]\n",
      "After deletion\n",
      "[[13 10 19]]\n"
     ]
    }
   ],
   "source": [
    "int_rand = np.random.randint(10, 27, size=(2,3))\n",
    "print(int_rand)\n",
    "\n",
    "print(\"After deletion\")\n",
    "int_rand = np.delete(int_rand, 1, axis=0)\n",
    "print(int_rand)"
   ]
  },
  {
   "cell_type": "markdown",
   "metadata": {},
   "source": [
    "## Mathematical Operations on a NumPy array"
   ]
  },
  {
   "cell_type": "code",
   "execution_count": 79,
   "metadata": {},
   "outputs": [
    {
     "name": "stdout",
     "output_type": "stream",
     "text": [
      "[1, 2, 3, 4, 5, 6, 7, 8, 9, 10]\n"
     ]
    }
   ],
   "source": [
    "#List\n",
    "list1 = [1,2,3,4,5]\n",
    "list2 = [6,7,8,9,10]\n",
    "\n",
    "print(list1 + list2)  #concatenates / joins 2 lists"
   ]
  },
  {
   "cell_type": "code",
   "execution_count": 82,
   "metadata": {},
   "outputs": [
    {
     "name": "stdout",
     "output_type": "stream",
     "text": [
      "Array 1\n",
      "[[3 2]\n",
      " [4 4]]\n",
      "Array 2\n",
      "[[8 7]\n",
      " [8 8]]\n",
      "Addition\n",
      "[[11  9]\n",
      " [12 12]]\n",
      "Subtraction\n",
      "[[-5 -5]\n",
      " [-4 -4]]\n",
      "Multiplication\n",
      "[[24 14]\n",
      " [32 32]]\n",
      "Division\n",
      "[[0.375      0.28571429]\n",
      " [0.5        0.5       ]]\n"
     ]
    }
   ],
   "source": [
    "np_arr1 = np.random.randint(1,5,(2,2))\n",
    "np_arr2 = np.random.randint(6,9,(2,2))\n",
    "\n",
    "print(\"Array 1\")\n",
    "print(np_arr1)\n",
    "print(\"Array 2\")\n",
    "print(np_arr2)\n",
    "\n",
    "print(\"Addition\")\n",
    "print(np_arr1 + np_arr2)\n",
    "\n",
    "print(\"Subtraction\")\n",
    "print(np_arr1 - np_arr2)\n",
    "\n",
    "print(\"Multiplication\")\n",
    "print(np_arr1 * np_arr2)\n",
    "\n",
    "print(\"Division\")\n",
    "print(np_arr1 / np_arr2)"
   ]
  },
  {
   "cell_type": "code",
   "execution_count": 83,
   "metadata": {},
   "outputs": [
    {
     "name": "stdout",
     "output_type": "stream",
     "text": [
      "[[11  9]\n",
      " [12 12]]\n"
     ]
    }
   ],
   "source": [
    "print(np.add(np_arr1, np_arr2))"
   ]
  },
  {
   "cell_type": "code",
   "execution_count": 84,
   "metadata": {},
   "outputs": [
    {
     "name": "stdout",
     "output_type": "stream",
     "text": [
      "[[-5 -5]\n",
      " [-4 -4]]\n"
     ]
    }
   ],
   "source": [
    "print(np.subtract(np_arr1, np_arr2))"
   ]
  },
  {
   "cell_type": "code",
   "execution_count": 85,
   "metadata": {},
   "outputs": [
    {
     "name": "stdout",
     "output_type": "stream",
     "text": [
      "[[24 14]\n",
      " [32 32]]\n"
     ]
    }
   ],
   "source": [
    "print(np.multiply(np_arr1, np_arr2))"
   ]
  },
  {
   "cell_type": "code",
   "execution_count": 86,
   "metadata": {},
   "outputs": [
    {
     "name": "stdout",
     "output_type": "stream",
     "text": [
      "[[0.375      0.28571429]\n",
      " [0.5        0.5       ]]\n"
     ]
    }
   ],
   "source": [
    "print(np.divide(np_arr1, np_arr2))"
   ]
  },
  {
   "cell_type": "markdown",
   "metadata": {},
   "source": [
    "## Numpy Array Manipulation"
   ]
  },
  {
   "cell_type": "markdown",
   "metadata": {},
   "source": [
    "### Sorting Numeric arrays"
   ]
  },
  {
   "cell_type": "code",
   "execution_count": 87,
   "metadata": {},
   "outputs": [
    {
     "name": "stdout",
     "output_type": "stream",
     "text": [
      "unsorted array\n",
      "[13  9  2 10 10 17  1  6  5  9]\n"
     ]
    }
   ],
   "source": [
    "print(\"unsorted array\")\n",
    "num_arr = np.random.randint(1, 20, 10)\n",
    "print(num_arr)"
   ]
  },
  {
   "cell_type": "code",
   "execution_count": 88,
   "metadata": {},
   "outputs": [
    {
     "name": "stdout",
     "output_type": "stream",
     "text": [
      "Sorted array\n",
      "[ 1  2  5  6  9  9 10 10 13 17]\n"
     ]
    }
   ],
   "source": [
    "print(\"Sorted array\")\n",
    "sorted_num_arr = np.sort(num_arr)\n",
    "print(sorted_num_arr)"
   ]
  },
  {
   "cell_type": "code",
   "execution_count": 89,
   "metadata": {},
   "outputs": [
    {
     "name": "stdout",
     "output_type": "stream",
     "text": [
      "unsorted array\n",
      "[[10 14  4 11 19]\n",
      " [ 6  4  5 13 13]\n",
      " [ 3  5  8  8  4]\n",
      " [ 9  9 12 11 12]]\n",
      "Sorted array\n",
      "[[ 4 10 11 14 19]\n",
      " [ 4  5  6 13 13]\n",
      " [ 3  4  5  8  8]\n",
      " [ 9  9 11 12 12]]\n"
     ]
    }
   ],
   "source": [
    "#2D array\n",
    "print(\"unsorted array\")\n",
    "num_arr = np.random.randint(1, 20, size=(4,5))\n",
    "print(num_arr)\n",
    "\n",
    "print(\"Sorted array\")\n",
    "sorted_num_arr = np.sort(num_arr)\n",
    "print(sorted_num_arr)"
   ]
  },
  {
   "cell_type": "code",
   "execution_count": 90,
   "metadata": {},
   "outputs": [
    {
     "name": "stdout",
     "output_type": "stream",
     "text": [
      "unsorted array\n",
      "[26  7  5 34  6 21  3 25 18 34]\n",
      "Sorted array\n",
      "[34 34 26 25 21 18  7  6  5  3]\n"
     ]
    }
   ],
   "source": [
    "#2D array\n",
    "print(\"unsorted array\")\n",
    "num_arr = np.random.randint(1, 35, 10)\n",
    "print(num_arr)\n",
    "\n",
    "print(\"Sorted array\")\n",
    "sorted_num_arr = np.sort(num_arr)\n",
    "reverse_sorted_num_arr = np.flipud(sorted_num_arr)\n",
    "print(reverse_sorted_num_arr)"
   ]
  },
  {
   "cell_type": "markdown",
   "metadata": {},
   "source": [
    "## Reshaping the arrays"
   ]
  },
  {
   "cell_type": "markdown",
   "metadata": {},
   "source": [
    "### Lower to Higher Dimensions"
   ]
  },
  {
   "cell_type": "code",
   "execution_count": 96,
   "metadata": {},
   "outputs": [
    {
     "name": "stdout",
     "output_type": "stream",
     "text": [
      "1D array\n",
      "[10 31 15 32 26  6 25 19 12 22 24 12  1  6  8  6 33  6]\n"
     ]
    }
   ],
   "source": [
    "print(\"1D array\")\n",
    "num_arr = np.random.randint(1, 35, 18)\n",
    "print(num_arr)"
   ]
  },
  {
   "cell_type": "code",
   "execution_count": 97,
   "metadata": {},
   "outputs": [
    {
     "name": "stdout",
     "output_type": "stream",
     "text": [
      "2D array\n",
      "[[10 31 15 32 26  6]\n",
      " [25 19 12 22 24 12]\n",
      " [ 1  6  8  6 33  6]]\n"
     ]
    }
   ],
   "source": [
    "print(\"2D array\")\n",
    "num_arr = num_arr.reshape(3,6)\n",
    "print(num_arr)"
   ]
  },
  {
   "cell_type": "code",
   "execution_count": 98,
   "metadata": {},
   "outputs": [
    {
     "name": "stdout",
     "output_type": "stream",
     "text": [
      "3D array\n",
      "[[[10 31 15]\n",
      "  [32 26  6]]\n",
      "\n",
      " [[25 19 12]\n",
      "  [22 24 12]]\n",
      "\n",
      " [[ 1  6  8]\n",
      "  [ 6 33  6]]]\n"
     ]
    }
   ],
   "source": [
    "print(\"3D array\")\n",
    "num_arr = num_arr.reshape(3, 2, 3 )\n",
    "print(num_arr)"
   ]
  },
  {
   "cell_type": "markdown",
   "metadata": {},
   "source": [
    "### Higher to Lower Dimensions"
   ]
  },
  {
   "cell_type": "code",
   "execution_count": 99,
   "metadata": {},
   "outputs": [
    {
     "name": "stdout",
     "output_type": "stream",
     "text": [
      "2D Array\n",
      "[[26 11 14  6]\n",
      " [24 28 25 12]\n",
      " [ 9 16 29  5]]\n",
      "1D Array\n",
      "[26 11 14  6 24 28 25 12  9 16 29  5]\n"
     ]
    }
   ],
   "source": [
    "print(\"2D Array\")\n",
    "num_arr = np.random.randint(2, 31, size= (3,4))\n",
    "print(num_arr)\n",
    "\n",
    "print(\"1D Array\")\n",
    "num_arr = num_arr.reshape(12)\n",
    "print(num_arr)"
   ]
  },
  {
   "cell_type": "code",
   "execution_count": 100,
   "metadata": {},
   "outputs": [
    {
     "name": "stdout",
     "output_type": "stream",
     "text": [
      "3D Array\n",
      "[[[ 16 125  18 126  98]\n",
      "  [ 74 121  84 120 127]\n",
      "  [121 115  42 110  17]\n",
      "  [124  85 111 130  97]]\n",
      "\n",
      " [[106  43  46  17 105]\n",
      "  [ 91 103  84  86 111]\n",
      "  [124  41  35  27 115]\n",
      "  [  6 105  36  44 117]]\n",
      "\n",
      " [[ 15 112  78  32  65]\n",
      "  [ 78  44  99  67  45]\n",
      "  [125  20  16  75 118]\n",
      "  [ 25 108  38  44 108]]]\n",
      "1D Array\n",
      "[ 16 125  18 126  98  74 121  84 120 127 121 115  42 110  17 124  85 111\n",
      " 130  97 106  43  46  17 105  91 103  84  86 111 124  41  35  27 115   6\n",
      " 105  36  44 117  15 112  78  32  65  78  44  99  67  45 125  20  16  75\n",
      " 118  25 108  38  44 108]\n"
     ]
    }
   ],
   "source": [
    "print(\"3D Array\")\n",
    "num_arr = np.random.randint(2, 131, size= (3,4,5))\n",
    "print(num_arr)\n",
    "\n",
    "print(\"1D Array\")\n",
    "num_arr = num_arr.reshape(-1)\n",
    "print(num_arr)"
   ]
  },
  {
   "cell_type": "markdown",
   "metadata": {},
   "source": [
    "## Indexing and Slicing"
   ]
  },
  {
   "cell_type": "code",
   "execution_count": 101,
   "metadata": {},
   "outputs": [
    {
     "name": "stdout",
     "output_type": "stream",
     "text": [
      "[ 1  2  3  4  5  6  7  8  9 10]\n"
     ]
    }
   ],
   "source": [
    "arr = np.arange(1, 11)\n",
    "print(arr)"
   ]
  },
  {
   "cell_type": "code",
   "execution_count": 103,
   "metadata": {},
   "outputs": [
    {
     "name": "stdout",
     "output_type": "stream",
     "text": [
      "1\n",
      "[3]\n",
      "[ 5  6  7  8  9 10]\n",
      "10\n",
      "[1 2 3 4 5 6 7 8 9]\n",
      "[ 3  4  5  6  7  8  9 10]\n",
      "[10  9  8  7  6  5  4  3  2  1]\n"
     ]
    }
   ],
   "source": [
    "print(arr[0])\n",
    "print(arr[2:3])\n",
    "print(arr[4:10])\n",
    "print(arr[-1])\n",
    "print(arr[:-1])\n",
    "print(arr[2:])\n",
    "print(arr[::-1])"
   ]
  },
  {
   "cell_type": "code",
   "execution_count": 105,
   "metadata": {},
   "outputs": [
    {
     "name": "stdout",
     "output_type": "stream",
     "text": [
      "[[1 2 3]\n",
      " [4 5 6]]\n",
      "[2 5]\n",
      "6\n",
      "[1 2 3]\n"
     ]
    }
   ],
   "source": [
    "row1 = [1, 2, 3]\n",
    "row2 = [4, 5, 6]\n",
    "row3 = [7, 8, 9]\n",
    "\n",
    "np_2D_arr = np.array([row1, row2, row3])\n",
    "print(np_2D_arr[:2,:])\n",
    "print(np_2D_arr[:2,1])\n",
    "print(np_2D_arr[1,2])\n",
    "print(np_2D_arr[0,:])"
   ]
  },
  {
   "cell_type": "markdown",
   "metadata": {},
   "source": [
    "## Copying numpy arrays"
   ]
  },
  {
   "cell_type": "code",
   "execution_count": 106,
   "metadata": {},
   "outputs": [
    {
     "name": "stdout",
     "output_type": "stream",
     "text": [
      "[  1   4  23   5  75  22 123]\n",
      "[  1   4  23   5  75  22 123]\n",
      "[  1   4   0   5  75  22 123]\n"
     ]
    }
   ],
   "source": [
    "arr = np.array([1,4,23,5,75,22,123])\n",
    "print(arr)\n",
    "\n",
    "arr1 = arr.copy()\n",
    "print(arr1)\n",
    "arr1[2] = 0\n",
    "print(arr1)"
   ]
  },
  {
   "cell_type": "code",
   "execution_count": 108,
   "metadata": {},
   "outputs": [
    {
     "name": "stdout",
     "output_type": "stream",
     "text": [
      "[  1   4  23   5  75  22 123]\n",
      "[  1   4  23   5  75  22 123]\n",
      "[  1   4   0   5  75  22 123]\n"
     ]
    }
   ],
   "source": [
    "arr = np.array([1,4,23,5,75,22,123])\n",
    "print(arr)\n",
    "\n",
    "arr1 = arr.view()\n",
    "print(arr1)\n",
    "arr1[2] = 0\n",
    "print(arr1)"
   ]
  },
  {
   "cell_type": "markdown",
   "metadata": {},
   "source": [
    "## Saving Numpy arrays"
   ]
  },
  {
   "cell_type": "code",
   "execution_count": 115,
   "metadata": {},
   "outputs": [],
   "source": [
    "arr = np.array([11,22,33,44,55,66,77,88,99,00])\n",
    "\n",
    "np.save(\"D:\\\\ML-Practice\\\\arrays\",arr)"
   ]
  },
  {
   "cell_type": "markdown",
   "metadata": {},
   "source": [
    "## Loading Numpy arrays"
   ]
  },
  {
   "cell_type": "code",
   "execution_count": 113,
   "metadata": {},
   "outputs": [
    {
     "name": "stdout",
     "output_type": "stream",
     "text": [
      "[11 22 33 44 55 66 77 88 99  0]\n"
     ]
    }
   ],
   "source": [
    "loaded_arr = np.load(\"arrays.npy\")\n",
    "print(loaded_arr)"
   ]
  },
  {
   "cell_type": "markdown",
   "metadata": {},
   "source": [
    "## Statistical operations"
   ]
  },
  {
   "cell_type": "markdown",
   "metadata": {},
   "source": [
    "### Mean"
   ]
  },
  {
   "cell_type": "code",
   "execution_count": 3,
   "metadata": {},
   "outputs": [
    {
     "name": "stdout",
     "output_type": "stream",
     "text": [
      "[ 2  4  6  8 10 12]\n",
      "mean: 7.0\n"
     ]
    }
   ],
   "source": [
    "arr = np.array([2,4,6,8,10,12])\n",
    "print(arr)\n",
    "print(\"mean:\", np.mean(arr))"
   ]
  },
  {
   "cell_type": "code",
   "execution_count": 6,
   "metadata": {},
   "outputs": [
    {
     "name": "stdout",
     "output_type": "stream",
     "text": [
      "[[19 20 18 17]\n",
      " [18 22 22 24]]\n",
      "mean: 20.0\n",
      "mean: [18.5 21.  20.  20.5]\n",
      "mean: [18.5 21.5]\n"
     ]
    }
   ],
   "source": [
    "arr_2d = np.random.randint(15, 25, size=(2,4))\n",
    "print(arr_2d)\n",
    "print(\"mean:\", np.mean(arr_2d))\n",
    "print(\"mean:\", np.mean(arr_2d, axis=0))\n",
    "print(\"mean:\", np.mean(arr_2d, axis= 1))"
   ]
  },
  {
   "cell_type": "markdown",
   "metadata": {},
   "source": [
    "### Median"
   ]
  },
  {
   "cell_type": "code",
   "execution_count": 8,
   "metadata": {},
   "outputs": [
    {
     "name": "stdout",
     "output_type": "stream",
     "text": [
      "[ 2  4  8 10 12]\n",
      "median: 8.0\n"
     ]
    }
   ],
   "source": [
    "arr = np.array([2,4,8,10,12])\n",
    "print(arr)\n",
    "print(\"median:\", np.median(arr))"
   ]
  },
  {
   "cell_type": "code",
   "execution_count": 10,
   "metadata": {},
   "outputs": [
    {
     "name": "stdout",
     "output_type": "stream",
     "text": [
      "[[17 16 21 16]\n",
      " [15 16 17 17]]\n",
      "median: 16.5\n",
      "median: [16.  16.  19.  16.5]\n",
      "median: [16.5 16.5]\n"
     ]
    }
   ],
   "source": [
    "arr_2d = np.random.randint(15, 25, size=(2,4))\n",
    "print(arr_2d)\n",
    "print(\"median:\", np.median(arr_2d))\n",
    "print(\"median:\", np.median(arr_2d, axis=0))\n",
    "print(\"median:\", np.median(arr_2d, axis= 1))"
   ]
  },
  {
   "cell_type": "markdown",
   "metadata": {},
   "source": [
    "### Max and Min values"
   ]
  },
  {
   "cell_type": "code",
   "execution_count": 11,
   "metadata": {},
   "outputs": [
    {
     "name": "stdout",
     "output_type": "stream",
     "text": [
      "[ 2  4  6  8 10 12]\n",
      "max: 12\n",
      "min: 2\n"
     ]
    }
   ],
   "source": [
    "arr = np.array([2,4,6,8,10,12])\n",
    "print(arr)\n",
    "print(\"max:\", np.amax(arr))\n",
    "print(\"min:\", np.amin(arr))"
   ]
  },
  {
   "cell_type": "markdown",
   "metadata": {},
   "source": [
    "### Standard Deviation"
   ]
  },
  {
   "cell_type": "code",
   "execution_count": 12,
   "metadata": {},
   "outputs": [
    {
     "name": "stdout",
     "output_type": "stream",
     "text": [
      "[ 2  4  6  8 10 12]\n",
      "SD: 3.415650255319866\n"
     ]
    }
   ],
   "source": [
    "arr = np.array([2,4,6,8,10,12])\n",
    "print(arr)\n",
    "print(\"SD:\", np.std(arr))"
   ]
  },
  {
   "cell_type": "code",
   "execution_count": 13,
   "metadata": {},
   "outputs": [
    {
     "name": "stdout",
     "output_type": "stream",
     "text": [
      "[[16 20 19 16]\n",
      " [19 23 23 21]]\n",
      "SD: 2.54644359843292\n",
      "SD: [1.5 1.5 2.  2.5]\n",
      "SD: [1.78535711 1.6583124 ]\n"
     ]
    }
   ],
   "source": [
    "arr_2d = np.random.randint(15, 25, size=(2,4))\n",
    "print(arr_2d)\n",
    "print(\"SD:\", np.std(arr_2d))\n",
    "print(\"SD:\", np.std(arr_2d, axis=0))\n",
    "print(\"SD:\", np.std(arr_2d, axis= 1))"
   ]
  },
  {
   "cell_type": "markdown",
   "metadata": {},
   "source": [
    "### Correlations"
   ]
  },
  {
   "cell_type": "code",
   "execution_count": 14,
   "metadata": {},
   "outputs": [
    {
     "name": "stdout",
     "output_type": "stream",
     "text": [
      "[1.  2.  4.  2.3 9. ]\n",
      "[4.5 7.  1.  0.2 3. ]\n",
      "Correlation: [49.96]\n"
     ]
    }
   ],
   "source": [
    "a1 = np.array([1, 2, 4, 2.3, 9.0])\n",
    "a2 = np.array([4.5, 7, 1, 0.2, 3])\n",
    "\n",
    "print(a1)\n",
    "print(a2)\n",
    "print(\"Correlation:\", np.correlate(a1,a2))"
   ]
  },
  {
   "cell_type": "markdown",
   "metadata": {},
   "source": [
    "### Getting Unique Items and Counts"
   ]
  },
  {
   "cell_type": "code",
   "execution_count": 16,
   "metadata": {},
   "outputs": [
    {
     "name": "stdout",
     "output_type": "stream",
     "text": [
      "[123   2   3 424   3   6  45 655   3 221   3   1   2  12   1   1   2]\n",
      "[  1   2   3   6  12  45 123 221 424 655]\n",
      "[3 3 4 1 1 1 1 1 1 1]\n"
     ]
    }
   ],
   "source": [
    "num = np.array([123,2,3,424,3,6,45,655,3,221,3,1,2,12,1,1,2])\n",
    "print(num)\n",
    "unique_items, count = np.unique(num, return_counts=True)\n",
    "print(unique_items)\n",
    "print(count)"
   ]
  },
  {
   "cell_type": "code",
   "execution_count": 17,
   "metadata": {},
   "outputs": [
    {
     "name": "stdout",
     "output_type": "stream",
     "text": [
      "[[  1   3]\n",
      " [  2   3]\n",
      " [  3   4]\n",
      " [  6   1]\n",
      " [ 12   1]\n",
      " [ 45   1]\n",
      " [123   1]\n",
      " [221   1]\n",
      " [424   1]\n",
      " [655   1]]\n"
     ]
    }
   ],
   "source": [
    "freq = np.asarray((unique_items, count)).T\n",
    "print(freq)"
   ]
  },
  {
   "cell_type": "markdown",
   "metadata": {},
   "source": [
    "### Reversing a Array"
   ]
  },
  {
   "cell_type": "code",
   "execution_count": 20,
   "metadata": {},
   "outputs": [
    {
     "name": "stdout",
     "output_type": "stream",
     "text": [
      "Original\n",
      "[ 9 34  9 15 20 24  8 25 27 20]\n",
      "Reversed\n",
      "[20 27 25  8 24 20 15  9 34  9]\n"
     ]
    }
   ],
   "source": [
    "print(\"Original\")\n",
    "arr = np.random.randint(3, 35, 10)\n",
    "print(arr)\n",
    "print(\"Reversed\")\n",
    "print(np.flipud(arr))"
   ]
  },
  {
   "cell_type": "code",
   "execution_count": 23,
   "metadata": {},
   "outputs": [
    {
     "name": "stdout",
     "output_type": "stream",
     "text": [
      "Original\n",
      "[[30 29  5 10 18]\n",
      " [15 23 15 11 14]]\n",
      "Reversed\n",
      "[[18 10  5 29 30]\n",
      " [14 11 15 23 15]]\n"
     ]
    }
   ],
   "source": [
    "print(\"Original\")\n",
    "arr = np.random.randint(3, 35, size = (2,5))\n",
    "print(arr)\n",
    "print(\"Reversed\")\n",
    "print(np.fliplr(arr))"
   ]
  },
  {
   "cell_type": "code",
   "execution_count": null,
   "metadata": {},
   "outputs": [],
   "source": []
  }
 ],
 "metadata": {
  "kernelspec": {
   "display_name": "base",
   "language": "python",
   "name": "python3"
  },
  "language_info": {
   "codemirror_mode": {
    "name": "ipython",
    "version": 3
   },
   "file_extension": ".py",
   "mimetype": "text/x-python",
   "name": "python",
   "nbconvert_exporter": "python",
   "pygments_lexer": "ipython3",
   "version": "3.12.4"
  }
 },
 "nbformat": 4,
 "nbformat_minor": 2
}

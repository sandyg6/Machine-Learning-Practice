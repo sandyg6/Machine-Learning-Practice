{
 "cells": [
  {
   "cell_type": "markdown",
   "id": "ac463920-0949-404d-9b20-80bdc41789f9",
   "metadata": {},
   "source": [
    "# Boolean functions"
   ]
  },
  {
   "cell_type": "code",
   "execution_count": 1,
   "id": "7087bfb6-5463-4fea-b123-86b12ee1fd8e",
   "metadata": {},
   "outputs": [
    {
     "name": "stdout",
     "output_type": "stream",
     "text": [
      "True False\n"
     ]
    }
   ],
   "source": [
    "print(True,False)"
   ]
  },
  {
   "cell_type": "code",
   "execution_count": 2,
   "id": "1d9b4264-6404-442b-8d66-5678204bb19e",
   "metadata": {},
   "outputs": [
    {
     "data": {
      "text/plain": [
       "bool"
      ]
     },
     "execution_count": 2,
     "metadata": {},
     "output_type": "execute_result"
    }
   ],
   "source": [
    "type(True)"
   ]
  },
  {
   "cell_type": "code",
   "execution_count": 6,
   "id": "ec358985-62c8-40ec-96d4-73d90ffb2505",
   "metadata": {},
   "outputs": [],
   "source": [
    "str=\"Sands123\""
   ]
  },
  {
   "cell_type": "code",
   "execution_count": 5,
   "id": "d686bb3a-13a0-48e9-80fa-7c465783fc23",
   "metadata": {},
   "outputs": [
    {
     "name": "stdout",
     "output_type": "stream",
     "text": [
      "True\n",
      "True\n",
      "False\n",
      "True\n",
      "False\n",
      "False\n",
      "False\n",
      "True\n",
      "False\n"
     ]
    }
   ],
   "source": [
    "print(str.isalnum())  #all are numbers\n",
    "print(str.isalpha())   #are alphabets\n",
    "print(str.isdigit())  #contains digits\n",
    "print(str.istitle())   #contains title words\n",
    "print(str.isupper())   #contains uppercase\n",
    "print(str.islower())    #contain lowercase\n",
    "print(str.isspace())   #is text contains spaces\n",
    "print(str.endswith('s'))  #if the string ends with s\n",
    "print(str.startswith('a')) #if string starts with a"
   ]
  },
  {
   "cell_type": "markdown",
   "id": "a9efe787-8684-4b03-a111-5935dd4c62e5",
   "metadata": {},
   "source": [
    "## Boolean and logical operators"
   ]
  },
  {
   "cell_type": "code",
   "execution_count": 7,
   "id": "237c1f5f-90c5-4f6a-a3ab-f69be2637f9d",
   "metadata": {},
   "outputs": [
    {
     "data": {
      "text/plain": [
       "True"
      ]
     },
     "execution_count": 7,
     "metadata": {},
     "output_type": "execute_result"
    }
   ],
   "source": [
    "True and True"
   ]
  },
  {
   "cell_type": "code",
   "execution_count": 8,
   "id": "3bed10a9-5db5-4fa7-8dfa-ddf8d7e17caf",
   "metadata": {},
   "outputs": [
    {
     "data": {
      "text/plain": [
       "False"
      ]
     },
     "execution_count": 8,
     "metadata": {},
     "output_type": "execute_result"
    }
   ],
   "source": [
    "True and False"
   ]
  },
  {
   "cell_type": "code",
   "execution_count": 9,
   "id": "69e5b768-f2b1-4bff-9333-7f0acc959bea",
   "metadata": {},
   "outputs": [
    {
     "data": {
      "text/plain": [
       "True"
      ]
     },
     "execution_count": 9,
     "metadata": {},
     "output_type": "execute_result"
    }
   ],
   "source": [
    "True or False"
   ]
  },
  {
   "cell_type": "code",
   "execution_count": 14,
   "id": "f2a25ede-2fd3-4098-83d0-67f09f752bbf",
   "metadata": {},
   "outputs": [],
   "source": [
    "s=\"Sands\"\n",
    "str=\"Sandhiya18\"\n"
   ]
  },
  {
   "cell_type": "code",
   "execution_count": 15,
   "id": "2c39817a-50f6-4242-9ce9-d9c936c1be2d",
   "metadata": {},
   "outputs": [
    {
     "data": {
      "text/plain": [
       "True"
      ]
     },
     "execution_count": 15,
     "metadata": {},
     "output_type": "execute_result"
    }
   ],
   "source": [
    "s.istitle() and str.isalnum()"
   ]
  },
  {
   "cell_type": "code",
   "execution_count": 17,
   "id": "cf6838f7-b0fd-4aaf-9782-237c3c5ce8af",
   "metadata": {},
   "outputs": [
    {
     "data": {
      "text/plain": [
       "False"
      ]
     },
     "execution_count": 17,
     "metadata": {},
     "output_type": "execute_result"
    }
   ],
   "source": [
    "s.istitle() and str.isdigit()"
   ]
  },
  {
   "cell_type": "markdown",
   "id": "d02c35f1-3419-4b33-8489-a39e67f816b9",
   "metadata": {},
   "source": [
    "## Lists"
   ]
  },
  {
   "cell_type": "code",
   "execution_count": 18,
   "id": "4fcf3e89-787f-4789-b692-78bbd03d0a0c",
   "metadata": {},
   "outputs": [
    {
     "data": {
      "text/plain": [
       "list"
      ]
     },
     "execution_count": 18,
     "metadata": {},
     "output_type": "execute_result"
    }
   ],
   "source": [
    "type([])"
   ]
  },
  {
   "cell_type": "code",
   "execution_count": 19,
   "id": "5f4197c3-0cc1-4be6-89d0-b14621471fe3",
   "metadata": {},
   "outputs": [
    {
     "data": {
      "text/plain": [
       "list"
      ]
     },
     "execution_count": 19,
     "metadata": {},
     "output_type": "execute_result"
    }
   ],
   "source": [
    "lst=[]\n",
    "type(lst)"
   ]
  },
  {
   "cell_type": "code",
   "execution_count": 20,
   "id": "44891d6c-fe01-4f94-a594-7a6c01e6f558",
   "metadata": {},
   "outputs": [],
   "source": [
    "lst=['ein','zwei','drei','vier',1,2,3,4]"
   ]
  },
  {
   "cell_type": "code",
   "execution_count": 21,
   "id": "1ea2a00a-bc70-4f61-beea-2f0808915769",
   "metadata": {},
   "outputs": [
    {
     "data": {
      "text/plain": [
       "8"
      ]
     },
     "execution_count": 21,
     "metadata": {},
     "output_type": "execute_result"
    }
   ],
   "source": [
    "len(lst)"
   ]
  },
  {
   "cell_type": "markdown",
   "id": "f3ecb858-073d-4e62-970c-c4e76cfb5dd1",
   "metadata": {},
   "source": [
    "### Append"
   ]
  },
  {
   "cell_type": "code",
   "execution_count": 24,
   "id": "6f3ebdaa-7561-4f3b-9ad1-b0f932b38d73",
   "metadata": {},
   "outputs": [],
   "source": [
    "#used to add elements into a list\n",
    "lst.append('seiben')"
   ]
  },
  {
   "cell_type": "code",
   "execution_count": 27,
   "id": "affbb968-5b08-4ab8-a833-300eb37a0afb",
   "metadata": {},
   "outputs": [
    {
     "data": {
      "text/plain": [
       "['ein', 'zwei', 'drei', 'vier', 1, 2, 3, 4, 'seiben']"
      ]
     },
     "execution_count": 27,
     "metadata": {},
     "output_type": "execute_result"
    }
   ],
   "source": [
    "lst"
   ]
  },
  {
   "cell_type": "code",
   "execution_count": 36,
   "id": "ee1623ad-9340-4a3d-8ac2-095612f36f5a",
   "metadata": {},
   "outputs": [
    {
     "data": {
      "text/plain": [
       "['ein', 'zwei', 'drei', 'vier', 1, 2, 3, 4, 'seiben', ['acht', 8]]"
      ]
     },
     "execution_count": 36,
     "metadata": {},
     "output_type": "execute_result"
    }
   ],
   "source": [
    "#creating nested lists\n",
    "lst.append(['acht',8])\n",
    "lst"
   ]
  },
  {
   "cell_type": "markdown",
   "id": "6467d720-9af5-43c7-af4b-6a59a82daa82",
   "metadata": {},
   "source": [
    "### Insert"
   ]
  },
  {
   "cell_type": "code",
   "execution_count": 29,
   "id": "88c34f9d-273b-4903-b816-606239514f39",
   "metadata": {},
   "outputs": [
    {
     "data": {
      "text/plain": [
       "'vier'"
      ]
     },
     "execution_count": 29,
     "metadata": {},
     "output_type": "execute_result"
    }
   ],
   "source": [
    "#indexing\n",
    "lst[3]"
   ]
  },
  {
   "cell_type": "code",
   "execution_count": 30,
   "id": "b7366f07-6fef-4ef5-8aae-1adb2bbd1216",
   "metadata": {},
   "outputs": [
    {
     "data": {
      "text/plain": [
       "['ein', 'zwei', 'drei', 'vier', 1, 2, 3, 4, 'seiben']"
      ]
     },
     "execution_count": 30,
     "metadata": {},
     "output_type": "execute_result"
    }
   ],
   "source": [
    "lst[:]"
   ]
  },
  {
   "cell_type": "code",
   "execution_count": 31,
   "id": "0f8e3840-9b9a-4e03-96b9-d5963928eff3",
   "metadata": {},
   "outputs": [
    {
     "data": {
      "text/plain": [
       "'seiben'"
      ]
     },
     "execution_count": 31,
     "metadata": {},
     "output_type": "execute_result"
    }
   ],
   "source": [
    "lst[-1]"
   ]
  },
  {
   "cell_type": "code",
   "execution_count": 32,
   "id": "ccc71f3e-1750-47c2-8e12-204fc305034e",
   "metadata": {},
   "outputs": [
    {
     "data": {
      "text/plain": [
       "['zwei', 'drei', 'vier', 1, 2, 3, 4, 'seiben']"
      ]
     },
     "execution_count": 32,
     "metadata": {},
     "output_type": "execute_result"
    }
   ],
   "source": [
    "lst[1:]"
   ]
  },
  {
   "cell_type": "code",
   "execution_count": 33,
   "id": "01aba8a9-6ed8-460a-9518-ae1bbd433089",
   "metadata": {},
   "outputs": [
    {
     "data": {
      "text/plain": [
       "['ein', 'zwei', 'drei']"
      ]
     },
     "execution_count": 33,
     "metadata": {},
     "output_type": "execute_result"
    }
   ],
   "source": [
    "lst[:3]"
   ]
  },
  {
   "cell_type": "code",
   "execution_count": 34,
   "id": "d1ade214-7d33-4e16-8053-5fa997b7361d",
   "metadata": {},
   "outputs": [
    {
     "data": {
      "text/plain": [
       "['zwei', 'drei', 'vier']"
      ]
     },
     "execution_count": 34,
     "metadata": {},
     "output_type": "execute_result"
    }
   ],
   "source": [
    "lst[1:4]"
   ]
  },
  {
   "cell_type": "code",
   "execution_count": 41,
   "id": "7aa70e2f-e487-470f-b884-1f3c4f61b0b7",
   "metadata": {},
   "outputs": [
    {
     "data": {
      "text/plain": [
       "['ein',\n",
       " 'zwei',\n",
       " 'drei',\n",
       " 'vier',\n",
       " 1,\n",
       " 2,\n",
       " 3,\n",
       " '5',\n",
       " '7',\n",
       " '7',\n",
       " 7,\n",
       " 7,\n",
       " 4,\n",
       " 'seiben',\n",
       " ['acht', 8]]"
      ]
     },
     "execution_count": 41,
     "metadata": {},
     "output_type": "execute_result"
    }
   ],
   "source": [
    "#to insert in a specific index \n",
    "lst.insert(7,\"5\")\n",
    "lst"
   ]
  },
  {
   "cell_type": "markdown",
   "id": "b446103b-4579-43d9-8983-16f5b3879ecb",
   "metadata": {},
   "source": [
    "### Extend"
   ]
  },
  {
   "cell_type": "code",
   "execution_count": 47,
   "id": "bbde1665-50ec-43aa-bfc6-5abddb13caa3",
   "metadata": {},
   "outputs": [],
   "source": [
    "lst=[1,2,3,4,5]"
   ]
  },
  {
   "cell_type": "code",
   "execution_count": 49,
   "id": "24f3dd49-5f17-4621-b30d-97c2cb38f798",
   "metadata": {},
   "outputs": [
    {
     "data": {
      "text/plain": [
       "[1, 2, 3, 4, 5, 8, 9, 10]"
      ]
     },
     "execution_count": 49,
     "metadata": {},
     "output_type": "execute_result"
    }
   ],
   "source": [
    "lst.extend([8,9,10])\n",
    "lst"
   ]
  },
  {
   "cell_type": "code",
   "execution_count": 50,
   "id": "114f7751-3b69-4991-a90f-0e70bfa98413",
   "metadata": {},
   "outputs": [
    {
     "data": {
      "text/plain": [
       "42"
      ]
     },
     "execution_count": 50,
     "metadata": {},
     "output_type": "execute_result"
    }
   ],
   "source": [
    "sum(lst)"
   ]
  },
  {
   "cell_type": "markdown",
   "id": "eec890ae-3fe2-46ad-803e-b283348978c1",
   "metadata": {},
   "source": [
    "### pop()"
   ]
  },
  {
   "cell_type": "code",
   "execution_count": 51,
   "id": "cb32cc35-1d88-470a-9363-5c74ad91ba87",
   "metadata": {},
   "outputs": [
    {
     "data": {
      "text/plain": [
       "[1, 2, 3, 4, 5, 8, 9, 10]"
      ]
     },
     "execution_count": 51,
     "metadata": {},
     "output_type": "execute_result"
    }
   ],
   "source": [
    "lst"
   ]
  },
  {
   "cell_type": "code",
   "execution_count": 55,
   "id": "1493467e-bc47-46b4-9bb1-55429a91c99d",
   "metadata": {},
   "outputs": [
    {
     "data": {
      "text/plain": [
       "[2, 3, 4, 5]"
      ]
     },
     "execution_count": 55,
     "metadata": {},
     "output_type": "execute_result"
    }
   ],
   "source": [
    "lst.pop()\n",
    "lst"
   ]
  },
  {
   "cell_type": "code",
   "execution_count": 56,
   "id": "dc3c8687-a25e-4c61-ae1b-503cafac76f7",
   "metadata": {},
   "outputs": [
    {
     "data": {
      "text/plain": [
       "[3, 4, 5]"
      ]
     },
     "execution_count": 56,
     "metadata": {},
     "output_type": "execute_result"
    }
   ],
   "source": [
    "lst.pop(0)\n",
    "lst"
   ]
  },
  {
   "cell_type": "code",
   "execution_count": 72,
   "id": "5a456505-8805-425f-a4ac-85e63119a040",
   "metadata": {},
   "outputs": [
    {
     "data": {
      "text/plain": [
       "[0, 1, 2, 2, 2, 2, 3, 4, 5, 6, 7, 8, 9, 0, 1, 2, 2, 2, 2, 3, 4, 5, 6, 7, 8, 9]"
      ]
     },
     "execution_count": 72,
     "metadata": {},
     "output_type": "execute_result"
    }
   ],
   "source": [
    "lst*2"
   ]
  },
  {
   "cell_type": "markdown",
   "id": "59356ad5-1df7-4506-aa8e-d5752a1fc4a1",
   "metadata": {},
   "source": [
    "### count()"
   ]
  },
  {
   "cell_type": "code",
   "execution_count": 57,
   "id": "a30f8cd5-a0ce-45a5-911a-0befa0ab0975",
   "metadata": {},
   "outputs": [],
   "source": [
    "#count() - calculates total occurances of given element\n",
    "# len() - length of list\n",
    "# index() - returns the index of first occurance. Start and end index are necessary parameters\n"
   ]
  },
  {
   "cell_type": "code",
   "execution_count": 61,
   "id": "8fa5d20f-5642-4006-a0e0-fb0cc838b5ea",
   "metadata": {},
   "outputs": [],
   "source": [
    "lst=[0,1,2,2,2,2,3,4,5,6,7,8,9]"
   ]
  },
  {
   "cell_type": "code",
   "execution_count": 62,
   "id": "b8920ad3-4b09-4060-89fb-1807f8f204ea",
   "metadata": {},
   "outputs": [
    {
     "data": {
      "text/plain": [
       "4"
      ]
     },
     "execution_count": 62,
     "metadata": {},
     "output_type": "execute_result"
    }
   ],
   "source": [
    "lst.count(2)"
   ]
  },
  {
   "cell_type": "code",
   "execution_count": 63,
   "id": "9a5e027a-c0e3-44a6-9289-3401b8c9f7ee",
   "metadata": {},
   "outputs": [
    {
     "data": {
      "text/plain": [
       "13"
      ]
     },
     "execution_count": 63,
     "metadata": {},
     "output_type": "execute_result"
    }
   ],
   "source": [
    "len(lst)"
   ]
  },
  {
   "cell_type": "code",
   "execution_count": 69,
   "id": "1d29aec0-d186-42ae-97ca-db379976e8d5",
   "metadata": {},
   "outputs": [
    {
     "data": {
      "text/plain": [
       "2"
      ]
     },
     "execution_count": 69,
     "metadata": {},
     "output_type": "execute_result"
    }
   ],
   "source": [
    "lst.index(2,0,4)   #number 2 has occured for the first time in index 2 within the interval 0 and 4"
   ]
  },
  {
   "cell_type": "code",
   "execution_count": 70,
   "id": "1da00d0c-83aa-4f09-87c9-ab083995e328",
   "metadata": {},
   "outputs": [
    {
     "data": {
      "text/plain": [
       "0"
      ]
     },
     "execution_count": 70,
     "metadata": {},
     "output_type": "execute_result"
    }
   ],
   "source": [
    "#min and max\n",
    "min(lst)"
   ]
  },
  {
   "cell_type": "code",
   "execution_count": 71,
   "id": "157c9263-8b52-4fca-92c6-cc78ea9572af",
   "metadata": {},
   "outputs": [
    {
     "data": {
      "text/plain": [
       "9"
      ]
     },
     "execution_count": 71,
     "metadata": {},
     "output_type": "execute_result"
    }
   ],
   "source": [
    "max(lst)"
   ]
  },
  {
   "cell_type": "markdown",
   "id": "92bf23fa-1da2-4016-ad25-bb660c578eb8",
   "metadata": {},
   "source": [
    "### Sets"
   ]
  },
  {
   "cell_type": "code",
   "execution_count": 76,
   "id": "c0c6a311-4b8f-455b-a1fa-e20a6917e01b",
   "metadata": {},
   "outputs": [
    {
     "name": "stdout",
     "output_type": "stream",
     "text": [
      "set()\n",
      "<class 'set'>\n"
     ]
    }
   ],
   "source": [
    "#defining an empty set\n",
    "\n",
    "var= set()\n",
    "print(var)\n",
    "print(type(var))"
   ]
  },
  {
   "cell_type": "code",
   "execution_count": 79,
   "id": "ce1d78e2-92aa-4381-b261-648f7729c53c",
   "metadata": {},
   "outputs": [],
   "source": [
    "var={1,2,3,2,3,4,5,1,2,4,5}"
   ]
  },
  {
   "cell_type": "code",
   "execution_count": 80,
   "id": "1dd765d4-c2c9-49d2-b0b5-ed3c47b7f660",
   "metadata": {},
   "outputs": [
    {
     "data": {
      "text/plain": [
       "{1, 2, 3, 4, 5}"
      ]
     },
     "execution_count": 80,
     "metadata": {},
     "output_type": "execute_result"
    }
   ],
   "source": [
    "var"
   ]
  },
  {
   "cell_type": "code",
   "execution_count": 86,
   "id": "1af9510d-edd7-44fe-b516-e241203024ac",
   "metadata": {},
   "outputs": [
    {
     "name": "stdout",
     "output_type": "stream",
     "text": [
      "{'Pink', 'Yellow', 'Red', 'Orange', 'Blue'}\n",
      "<class 'set'>\n"
     ]
    }
   ],
   "source": [
    "new={'Blue','Pink','Orange','Red','Yellow'}\n",
    "print(new)\n",
    "print(type(new))"
   ]
  },
  {
   "cell_type": "code",
   "execution_count": 88,
   "id": "59c3a486-99d2-4e6d-be2e-6fc2d885b93b",
   "metadata": {},
   "outputs": [],
   "source": [
    "# inbuilt functions\n",
    "\n",
    "new.add(\"Olive\")"
   ]
  },
  {
   "cell_type": "code",
   "execution_count": 89,
   "id": "afcd6635-6290-4e2b-92a1-51e2ab2c1110",
   "metadata": {},
   "outputs": [
    {
     "name": "stdout",
     "output_type": "stream",
     "text": [
      "{'Pink', 'Yellow', 'Red', 'Orange', 'Blue', 'Olive'}\n"
     ]
    }
   ],
   "source": [
    "print(new)"
   ]
  },
  {
   "cell_type": "code",
   "execution_count": 92,
   "id": "96853dbf-84b2-4b0f-8c4f-1b8c8b8a2fd1",
   "metadata": {},
   "outputs": [],
   "source": [
    "set1={'a','b','c','d'}\n",
    "set2={'a','b','c'}"
   ]
  },
  {
   "cell_type": "code",
   "execution_count": 94,
   "id": "f306a954-2da0-4029-998d-43f5ad7bbe8c",
   "metadata": {},
   "outputs": [
    {
     "data": {
      "text/plain": [
       "{'d'}"
      ]
     },
     "execution_count": 94,
     "metadata": {},
     "output_type": "execute_result"
    }
   ],
   "source": [
    "#difference\n",
    "\n",
    "set1.difference(set2)"
   ]
  },
  {
   "cell_type": "code",
   "execution_count": 95,
   "id": "a3877331-1dc6-4c3d-8b21-06a9e7942665",
   "metadata": {},
   "outputs": [],
   "source": [
    "#difference update\n",
    "set1.difference_update(set2)"
   ]
  },
  {
   "cell_type": "code",
   "execution_count": 96,
   "id": "005a6ff6-f114-4c06-987e-518231177c88",
   "metadata": {},
   "outputs": [
    {
     "name": "stdout",
     "output_type": "stream",
     "text": [
      "{'d'}\n"
     ]
    }
   ],
   "source": [
    "print(set1)"
   ]
  },
  {
   "cell_type": "markdown",
   "id": "b20b01ac-02d0-4a1e-9c78-c34d09bf9cf5",
   "metadata": {},
   "source": [
    "### Dictionaries"
   ]
  },
  {
   "cell_type": "code",
   "execution_count": 100,
   "id": "d30bd111-5262-4598-a637-bcd327717d48",
   "metadata": {},
   "outputs": [],
   "source": [
    "dict={1,2,3,4}"
   ]
  },
  {
   "cell_type": "code",
   "execution_count": 101,
   "id": "81c88cde-9e63-4ffc-84c0-242a91a0c0e7",
   "metadata": {},
   "outputs": [
    {
     "data": {
      "text/plain": [
       "set"
      ]
     },
     "execution_count": 101,
     "metadata": {},
     "output_type": "execute_result"
    }
   ],
   "source": [
    "type(dict)"
   ]
  },
  {
   "cell_type": "code",
   "execution_count": 103,
   "id": "e71111a3-4df7-450a-aeaf-476d33a5e5a3",
   "metadata": {},
   "outputs": [
    {
     "data": {
      "text/plain": [
       "dict"
      ]
     },
     "execution_count": 103,
     "metadata": {},
     "output_type": "execute_result"
    }
   ],
   "source": [
    "dict={\"car1\":\"Audi\",\"car2\":\"BMW\",\"car3\":\"Benz\"}\n",
    "type(dict)"
   ]
  },
  {
   "cell_type": "code",
   "execution_count": 104,
   "id": "f64c7d96-26ef-448e-b432-4476c6fe57f2",
   "metadata": {},
   "outputs": [
    {
     "data": {
      "text/plain": [
       "'BMW'"
      ]
     },
     "execution_count": 104,
     "metadata": {},
     "output_type": "execute_result"
    }
   ],
   "source": [
    "#access the item values based on keys\n",
    "dict['car2']"
   ]
  },
  {
   "cell_type": "code",
   "execution_count": 105,
   "id": "09668404-5c74-4631-b43a-2679843d0a08",
   "metadata": {},
   "outputs": [
    {
     "name": "stdout",
     "output_type": "stream",
     "text": [
      "car1\n",
      "car2\n",
      "car3\n"
     ]
    }
   ],
   "source": [
    "for i in dict:\n",
    "    print(i)"
   ]
  },
  {
   "cell_type": "code",
   "execution_count": 106,
   "id": "7af06f13-be52-4eb7-a190-bebbf6a690fc",
   "metadata": {},
   "outputs": [
    {
     "name": "stdout",
     "output_type": "stream",
     "text": [
      "Audi\n",
      "BMW\n",
      "Benz\n"
     ]
    }
   ],
   "source": [
    "for i in dict:\n",
    "    print(dict[i])"
   ]
  },
  {
   "cell_type": "code",
   "execution_count": 107,
   "id": "6efe5cb7-9f7c-4fcb-b4f4-005729094130",
   "metadata": {},
   "outputs": [
    {
     "name": "stdout",
     "output_type": "stream",
     "text": [
      "Audi\n",
      "BMW\n",
      "Benz\n"
     ]
    }
   ],
   "source": [
    "#print values\n",
    "\n",
    "for i in dict.values():\n",
    "    print(i)"
   ]
  },
  {
   "cell_type": "code",
   "execution_count": 108,
   "id": "a935c9bb-6e9c-4bd7-9664-a15076e458b0",
   "metadata": {},
   "outputs": [
    {
     "name": "stdout",
     "output_type": "stream",
     "text": [
      "('car1', 'Audi')\n",
      "('car2', 'BMW')\n",
      "('car3', 'Benz')\n"
     ]
    }
   ],
   "source": [
    "#both keys and values\n",
    "\n",
    "for i in dict.items():\n",
    "    print(i)"
   ]
  },
  {
   "cell_type": "code",
   "execution_count": 109,
   "id": "571d47fc-0644-40db-87e5-30de6b185890",
   "metadata": {},
   "outputs": [],
   "source": [
    "#adding items to dictionaries\n",
    "\n",
    "dict[\"car4\"]=\"Hundai\""
   ]
  },
  {
   "cell_type": "code",
   "execution_count": 110,
   "id": "9eac37e4-5141-445c-ad49-21db757994c0",
   "metadata": {},
   "outputs": [
    {
     "data": {
      "text/plain": [
       "{'car1': 'Audi', 'car2': 'BMW', 'car3': 'Benz', 'car4': 'Hundai'}"
      ]
     },
     "execution_count": 110,
     "metadata": {},
     "output_type": "execute_result"
    }
   ],
   "source": [
    "dict"
   ]
  },
  {
   "cell_type": "code",
   "execution_count": 111,
   "id": "ea985ad5-ac3d-47f6-ab3b-facdb974aa6d",
   "metadata": {},
   "outputs": [
    {
     "data": {
      "text/plain": [
       "{'car1': 'Maruti', 'car2': 'BMW', 'car3': 'Benz', 'car4': 'Hundai'}"
      ]
     },
     "execution_count": 111,
     "metadata": {},
     "output_type": "execute_result"
    }
   ],
   "source": [
    "dict[\"car1\"]=\"Maruti\"\n",
    "dict"
   ]
  },
  {
   "cell_type": "markdown",
   "id": "c0394848-a58f-4c87-a7bd-836a5de142bf",
   "metadata": {},
   "source": [
    "### Nested dictionary"
   ]
  },
  {
   "cell_type": "code",
   "execution_count": 112,
   "id": "52c136c6-2915-454c-8288-ba078db4d6d0",
   "metadata": {},
   "outputs": [],
   "source": [
    "c1_m={\"Mercedes\":1960}\n",
    "c2_m={\"Audi\":1970}\n",
    "c3_m={\"Ambassador\":1980}\n",
    "\n",
    "car_type={\"car1\":c1_m,\"car2\":c2_m,\"car3\":c3_m}"
   ]
  },
  {
   "cell_type": "code",
   "execution_count": 113,
   "id": "e1b28ff6-3e8c-4a73-9533-3673aadb970c",
   "metadata": {},
   "outputs": [
    {
     "name": "stdout",
     "output_type": "stream",
     "text": [
      "{'car1': {'Mercedes': 1960}, 'car2': {'Audi': 1970}, 'car3': {'Ambassador': 1980}}\n"
     ]
    }
   ],
   "source": [
    "print(car_type)"
   ]
  },
  {
   "cell_type": "code",
   "execution_count": 115,
   "id": "4caea00d-fcf0-4438-8f7d-4cf2e4b4829f",
   "metadata": {},
   "outputs": [
    {
     "name": "stdout",
     "output_type": "stream",
     "text": [
      "{'Mercedes': 1960}\n"
     ]
    }
   ],
   "source": [
    "print(car_type[\"car1\"])"
   ]
  },
  {
   "cell_type": "code",
   "execution_count": 116,
   "id": "e2db2825-03aa-4420-9ad6-d882ea6efeef",
   "metadata": {},
   "outputs": [
    {
     "name": "stdout",
     "output_type": "stream",
     "text": [
      "1960\n"
     ]
    }
   ],
   "source": [
    "print(car_type[\"car1\"][\"Mercedes\"])"
   ]
  },
  {
   "cell_type": "markdown",
   "id": "ba2e9453-bc84-403a-b72d-3eec4a64c5f9",
   "metadata": {},
   "source": [
    "### Tuples"
   ]
  },
  {
   "cell_type": "code",
   "execution_count": 117,
   "id": "bb500004-24bc-450c-a26e-2643969321f2",
   "metadata": {},
   "outputs": [],
   "source": [
    "#creating empty tuple\n",
    "tup=tuple()"
   ]
  },
  {
   "cell_type": "code",
   "execution_count": 118,
   "id": "27cabcac-821c-4a27-a422-067669a9f984",
   "metadata": {},
   "outputs": [
    {
     "data": {
      "text/plain": [
       "tuple"
      ]
     },
     "execution_count": 118,
     "metadata": {},
     "output_type": "execute_result"
    }
   ],
   "source": [
    "type(tup)"
   ]
  },
  {
   "cell_type": "code",
   "execution_count": 119,
   "id": "807f56c7-ce15-47cc-a7d5-01dda8396aff",
   "metadata": {},
   "outputs": [],
   "source": [
    "tup=(\"Hallo\",\"Hi\",\"Hey\")"
   ]
  },
  {
   "cell_type": "code",
   "execution_count": 120,
   "id": "4e131c91-23c9-44bc-8e01-4c6b39ec05e2",
   "metadata": {},
   "outputs": [
    {
     "name": "stdout",
     "output_type": "stream",
     "text": [
      "('Hallo', 'Hi', 'Hey')\n",
      "<class 'tuple'>\n"
     ]
    }
   ],
   "source": [
    "print(tup)\n",
    "print(type(tup))"
   ]
  },
  {
   "cell_type": "code",
   "execution_count": 121,
   "id": "a153f9bd-dc97-42cd-8de3-6e5fe902a056",
   "metadata": {},
   "outputs": [
    {
     "data": {
      "text/plain": [
       "'Hey'"
      ]
     },
     "execution_count": 121,
     "metadata": {},
     "output_type": "execute_result"
    }
   ],
   "source": [
    "tup[2]"
   ]
  },
  {
   "cell_type": "code",
   "execution_count": 122,
   "id": "e1835cfa-0231-4050-a219-2dcbabe6785b",
   "metadata": {},
   "outputs": [],
   "source": [
    "#in tuple elements cannot be changed, we can only completely change the tuple"
   ]
  },
  {
   "cell_type": "code",
   "execution_count": 125,
   "id": "71c9be45-f284-448b-bb40-3370972e230d",
   "metadata": {},
   "outputs": [
    {
     "name": "stdout",
     "output_type": "stream",
     "text": [
      "1\n",
      "0\n"
     ]
    }
   ],
   "source": [
    "#inbuilt functions\n",
    "print(tup.count('Hey'))\n",
    "print(tup.index('Hallo'))"
   ]
  },
  {
   "cell_type": "code",
   "execution_count": null,
   "id": "c2485eb5-7a54-400b-9b03-ff86b4510ee7",
   "metadata": {},
   "outputs": [],
   "source": []
  }
 ],
 "metadata": {
  "kernelspec": {
   "display_name": "Python 3 (ipykernel)",
   "language": "python",
   "name": "python3"
  },
  "language_info": {
   "codemirror_mode": {
    "name": "ipython",
    "version": 3
   },
   "file_extension": ".py",
   "mimetype": "text/x-python",
   "name": "python",
   "nbconvert_exporter": "python",
   "pygments_lexer": "ipython3",
   "version": "3.11.7"
  }
 },
 "nbformat": 4,
 "nbformat_minor": 5
}
